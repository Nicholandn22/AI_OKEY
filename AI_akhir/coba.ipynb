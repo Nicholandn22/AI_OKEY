{
 "cells": [
  {
   "cell_type": "code",
   "execution_count": 2,
   "metadata": {},
   "outputs": [
    {
     "name": "stdout",
     "output_type": "stream",
     "text": [
      "Accuracy: 0.953125\n",
      "Classification Report:\n",
      "               precision    recall  f1-score   support\n",
      "\n",
      "           2       0.00      0.00      0.00         1\n",
      "           3       0.95      1.00      0.97        36\n",
      "           4       0.96      0.96      0.96        24\n",
      "           5       1.00      0.67      0.80         3\n",
      "\n",
      "    accuracy                           0.95        64\n",
      "   macro avg       0.73      0.66      0.68        64\n",
      "weighted avg       0.94      0.95      0.94        64\n",
      "\n",
      "Predictions have been saved to 'data_with_predictions.csv'\n"
     ]
    },
    {
     "name": "stderr",
     "output_type": "stream",
     "text": [
      "c:\\Users\\nicho\\AppData\\Local\\Programs\\Python\\Python310\\lib\\site-packages\\sklearn\\metrics\\_classification.py:1509: UndefinedMetricWarning: Precision is ill-defined and being set to 0.0 in labels with no predicted samples. Use `zero_division` parameter to control this behavior.\n",
      "  _warn_prf(average, modifier, f\"{metric.capitalize()} is\", len(result))\n",
      "c:\\Users\\nicho\\AppData\\Local\\Programs\\Python\\Python310\\lib\\site-packages\\sklearn\\metrics\\_classification.py:1509: UndefinedMetricWarning: Precision is ill-defined and being set to 0.0 in labels with no predicted samples. Use `zero_division` parameter to control this behavior.\n",
      "  _warn_prf(average, modifier, f\"{metric.capitalize()} is\", len(result))\n",
      "c:\\Users\\nicho\\AppData\\Local\\Programs\\Python\\Python310\\lib\\site-packages\\sklearn\\metrics\\_classification.py:1509: UndefinedMetricWarning: Precision is ill-defined and being set to 0.0 in labels with no predicted samples. Use `zero_division` parameter to control this behavior.\n",
      "  _warn_prf(average, modifier, f\"{metric.capitalize()} is\", len(result))\n"
     ]
    }
   ],
   "source": [
    "import pandas as pd\n",
    "from sklearn.model_selection import train_test_split\n",
    "from sklearn.preprocessing import StandardScaler\n",
    "from sklearn.ensemble import RandomForestClassifier\n",
    "from sklearn.metrics import classification_report, accuracy_score\n",
    "import joblib\n",
    "\n",
    "# Membaca dataset dari file CSV\n",
    "data = pd.read_csv('data.csv')\n",
    "\n",
    "# Memisahkan fitur dan target\n",
    "X = data.drop('kelas', axis=1)\n",
    "y = data['kelas']\n",
    "\n",
    "# Split data menjadi train dan test\n",
    "X_train, X_test, y_train, y_test = train_test_split(X, y, test_size=0.3, random_state=42)\n",
    "\n",
    "# Normalisasi fitur\n",
    "scaler = StandardScaler()\n",
    "X_train = scaler.fit_transform(X_train)\n",
    "X_test = scaler.transform(X_test)\n",
    "\n",
    "# Inisialisasi dan pelatihan model\n",
    "model = RandomForestClassifier(n_estimators=100, random_state=42)\n",
    "model.fit(X_train, y_train)\n",
    "\n",
    "# Prediksi menggunakan data test\n",
    "y_pred = model.predict(X_test)\n",
    "\n",
    "# Evaluasi model\n",
    "print(\"Accuracy:\", accuracy_score(y_test, y_pred))\n",
    "print(\"Classification Report:\\n\", classification_report(y_test, y_pred))\n",
    "\n",
    "# Menyimpan model ke file pkl\n",
    "joblib.dump(model, 'model.pkl')\n",
    "\n",
    "# Membuat dan menyimpan scaler ke file pkl\n",
    "joblib.dump(scaler, 'scaler.pkl')\n",
    "\n",
    "# Memuat model dari file pkl\n",
    "model_loaded = joblib.load('model.pkl')\n",
    "\n",
    "# Memuat scaler dari file pkl\n",
    "scaler_loaded = joblib.load('scaler.pkl')\n",
    "\n",
    "# Normalisasi data asli\n",
    "data_scaled = scaler_loaded.transform(X)\n",
    "\n",
    "# Prediksi untuk seluruh data\n",
    "predictions = model_loaded.predict(data_scaled)\n",
    "\n",
    "# Interpretasi hasil prediksi\n",
    "result = ['Bersih' if pred == 3 else 'Tidak Bersih' for pred in predictions]\n",
    "\n",
    "# Menambahkan kolom hasil prediksi ke data asli\n",
    "data['Prediksi'] = result\n",
    "\n",
    "# Menyimpan hasil ke file CSV baru\n",
    "data.to_csv('data_with_predictions.csv', index=False)\n",
    "\n",
    "print(\"Predictions have been saved to 'data_with_predictions.csv'\")\n"
   ]
  }
 ],
 "metadata": {
  "kernelspec": {
   "display_name": "Python 3",
   "language": "python",
   "name": "python3"
  },
  "language_info": {
   "codemirror_mode": {
    "name": "ipython",
    "version": 3
   },
   "file_extension": ".py",
   "mimetype": "text/x-python",
   "name": "python",
   "nbconvert_exporter": "python",
   "pygments_lexer": "ipython3",
   "version": "3.10.8"
  }
 },
 "nbformat": 4,
 "nbformat_minor": 2
}
